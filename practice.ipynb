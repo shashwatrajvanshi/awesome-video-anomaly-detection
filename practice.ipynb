{
  "nbformat": 4,
  "nbformat_minor": 0,
  "metadata": {
    "colab": {
      "provenance": [],
      "authorship_tag": "ABX9TyPqQxlDadof29r71rytkwPS",
      "include_colab_link": true
    },
    "kernelspec": {
      "name": "python3",
      "display_name": "Python 3"
    },
    "language_info": {
      "name": "python"
    }
  },
  "cells": [
    {
      "cell_type": "markdown",
      "metadata": {
        "id": "view-in-github",
        "colab_type": "text"
      },
      "source": [
        "<a href=\"https://colab.research.google.com/github/shashwatrajvanshi/awesome-video-anomaly-detection/blob/master/practice.ipynb\" target=\"_parent\"><img src=\"https://colab.research.google.com/assets/colab-badge.svg\" alt=\"Open In Colab\"/></a>"
      ]
    },
    {
      "cell_type": "code",
      "execution_count": 15,
      "metadata": {
        "id": "7PJWmlQQvqZ0",
        "colab": {
          "base_uri": "https://localhost:8080/"
        },
        "outputId": "4fa1f0e8-594c-4f3f-bfcd-bb649b0523a3"
      },
      "outputs": [
        {
          "output_type": "stream",
          "name": "stdout",
          "text": [
            "The factorial of 5 is 120\n"
          ]
        }
      ],
      "source": [
        "def calculate_factorial():\n",
        "    n = 5\n",
        "    fac=1\n",
        "\n",
        "    if n == 0 or n == 1:\n",
        "        fac = 1\n",
        "    else:\n",
        "        for i in range(1, n + 1):\n",
        "            fac *= i\n",
        "\n",
        "    print(f\"The factorial of {n} is {fac}\")\n",
        "\n",
        "calculate_factorial()"
      ]
    },
    {
      "cell_type": "code",
      "source": [],
      "metadata": {
        "id": "CdkYeCQOvgZg"
      },
      "execution_count": null,
      "outputs": []
    }
  ]
}